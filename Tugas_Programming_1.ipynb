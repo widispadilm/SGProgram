{
  "nbformat": 4,
  "nbformat_minor": 0,
  "metadata": {
    "colab": {
      "name": "Tugas Programming 1",
      "provenance": []
    },
    "kernelspec": {
      "name": "python3",
      "display_name": "Python 3"
    }
  },
  "cells": [
    {
      "cell_type": "code",
      "metadata": {
        "colab": {
          "base_uri": "https://localhost:8080/"
        },
        "id": "mkEpJvMHPPV-",
        "outputId": "d6ae97e8-25ca-49fb-9ad5-abb7ca2b53e2"
      },
      "source": [
        "#Volume Balok\r\n",
        "tinggi = float(input())\r\n",
        "panjang = float(input())\r\n",
        "lebar = float(input())\r\n",
        "volume = panjang*tinggi*lebar\r\n",
        "print(volume)"
      ],
      "execution_count": 4,
      "outputs": [
        {
          "output_type": "stream",
          "text": [
            "10\n",
            "20\n",
            "30\n",
            "6000.0\n"
          ],
          "name": "stdout"
        }
      ]
    },
    {
      "cell_type": "code",
      "metadata": {
        "colab": {
          "base_uri": "https://localhost:8080/"
        },
        "id": "Mb_4HvZ2QlAK",
        "outputId": "ec8be290-1d8b-4952-8dfd-b9258419d8a9"
      },
      "source": [
        "#Volume Tabung\r\n",
        "phi = 3.14\r\n",
        "tinggi = float(input())\r\n",
        "jari2 = float(input())\r\n",
        "volume = phi*tinggi*jari2*jari2\r\n",
        "print(volume)"
      ],
      "execution_count": 16,
      "outputs": [
        {
          "output_type": "stream",
          "text": [
            "20\n",
            "10\n",
            "6280.0\n"
          ],
          "name": "stdout"
        }
      ]
    },
    {
      "cell_type": "code",
      "metadata": {
        "colab": {
          "base_uri": "https://localhost:8080/"
        },
        "id": "GDshYdZUSetc",
        "outputId": "d72d2222-2f1a-4d8b-c233-f63893f8efb7"
      },
      "source": [
        "#Volume Limas Segi Empat\r\n",
        "Lalas = float(input())\r\n",
        "t = float(input())\r\n",
        "volume = 1/3*Lalas*t\r\n",
        "print(volume)\r\n"
      ],
      "execution_count": 18,
      "outputs": [
        {
          "output_type": "stream",
          "text": [
            "20\n",
            "10\n",
            "66.66666666666666\n"
          ],
          "name": "stdout"
        }
      ]
    },
    {
      "cell_type": "code",
      "metadata": {
        "id": "dq16vgQvUWtN"
      },
      "source": [
        ""
      ],
      "execution_count": null,
      "outputs": []
    }
  ]
}